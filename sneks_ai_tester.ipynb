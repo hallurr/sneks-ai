{
 "cells": [
  {
   "cell_type": "code",
   "execution_count": null,
   "metadata": {},
   "outputs": [],
   "source": [
    "import time\n",
    "import matplotlib.pyplot as plt\n",
    "from IPython.display import display, clear_output\n",
    "from sneks_ai import SnakeGame, Snake, Apple  # use the classes from sneks-ai.py"
   ]
  },
  {
   "cell_type": "code",
   "execution_count": null,
   "metadata": {},
   "outputs": [],
   "source": [
    "game = SnakeGame(\n",
    "    canvas_size=20, \n",
    "    nApples=2, \n",
    "    nSnakes =2\n",
    "    )\n",
    "snakeIDs = [snake for snake in game.snakes]\n",
    "plt.figure(figsize=(10,10))\n",
    "plt.imshow(game.get_state(snakeID=snakeIDs[0]))\n",
    "plt.xticks([])\n",
    "plt.yticks([])\n",
    "plt.show()\n",
    "\n",
    "# Outside of the game you request actions of each snake, and then update the game with the action_vector, where the action vector length is the number of snakes"
   ]
  },
  {
   "cell_type": "code",
   "execution_count": null,
   "metadata": {},
   "outputs": [],
   "source": [
    "# Outside of the game you request actions of each snake, and then update the game with the action_vector, where the action vector length is the number of snakes\n",
    "# E.G.\n",
    "numSnakes = 3\n",
    "game = SnakeGame(nSnakes = numSnakes)\n",
    "while not game.done:\n",
    "    # initialize the action vector\n",
    "    action_vector = [None]*numSnakes\n",
    "    for snake in game.snakes:\n",
    "        if game.snakes[snake].alive:\n",
    "            action_vector[snake] = game.snakes[snake].take_action(game.get_state(snakeID=snake), game.choices)\n",
    "    # update the game\n",
    "    game.updateGame(action_vector)"
   ]
  }
 ],
 "metadata": {
  "kernelspec": {
   "display_name": "Python 3",
   "language": "python",
   "name": "python3"
  },
  "language_info": {
   "codemirror_mode": {
    "name": "ipython",
    "version": 3
   },
   "file_extension": ".py",
   "mimetype": "text/x-python",
   "name": "python",
   "nbconvert_exporter": "python",
   "pygments_lexer": "ipython3",
   "version": "3.10.5"
  }
 },
 "nbformat": 4,
 "nbformat_minor": 2
}
