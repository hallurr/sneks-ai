{
 "cells": [
  {
   "cell_type": "code",
   "execution_count": 6,
   "metadata": {},
   "outputs": [],
   "source": [
    "from sneks_ai import *\n",
    "\n",
    "seed = 0\n",
    "np.random.seed(seed)\n",
    "torch.manual_seed(seed)\n",
    "random.seed(0)\n",
    "device = torch.device(\"cuda\" if torch.cuda.is_available() else \"cpu\")"
   ]
  },
  {
   "cell_type": "code",
   "execution_count": 7,
   "metadata": {},
   "outputs": [
    {
     "data": {
      "text/plain": [
       "device(type='cpu')"
      ]
     },
     "execution_count": 7,
     "metadata": {},
     "output_type": "execute_result"
    }
   ],
   "source": [
    "device"
   ]
  },
  {
   "cell_type": "code",
   "execution_count": 2,
   "metadata": {},
   "outputs": [
    {
     "data": {
      "image/png": "[encoded data removed]",
      "text/plain": [
       "<Figure size 1000x1000 with 1 Axes>"
      ]
     },
     "metadata": {},
     "output_type": "display_data"
    }
   ],
   "source": [
    "\n",
    "\n",
    "\n",
    "gameSize = 35\n",
    "numSnakes = 15\n",
    "numApples = 20\n",
    "myFigsize = 10\n",
    "game = SnakeGame(\n",
    "    canvas_size = gameSize, \n",
    "    nApples = numApples, \n",
    "    nSnakes = numSnakes,\n",
    "    annotate = False,\n",
    "    keepGameLog = True\n",
    "    )\n",
    "agnosticstate_flat = game.get_agnosticState().flatten()\n",
    "\n",
    "snakeIDs = [snake for snake in game.snakes]\n",
    "# give each snake a new fresh brain\n",
    "for snakeID in snakeIDs:\n",
    "    game.snakes[snakeID].brain = ClassicNeuralNetwork(input_size = len(agnosticstate_flat),\n",
    "                    output_size = len(game.choices),\n",
    "                    hidden_layers = [1200, 500, 300, 100, 25],\n",
    "                    activation_functions = ['relu', 'relu', 'relu', 'relu', 'relu', 'softmax']\n",
    "                    )\n",
    "    # print([w.shape for w in game.snakes[snakeID].brain.Weights])\n",
    "plt.figure(figsize=(myFigsize,myFigsize))\n",
    "games_state = game.get_state(snakeID=snakeIDs[0])\n",
    "plt.imshow(games_state)\n",
    "plt.xticks([])\n",
    "plt.yticks([])\n",
    "plt.show()\n",
    "\n",
    "# Outside of the game you request actions of each snake, and then update the game with the action_vector, where the action vector length is the number of snakes"
   ]
  },
  {
   "cell_type": "code",
   "execution_count": 3,
   "metadata": {},
   "outputs": [
    {
     "name": "stdout",
     "output_type": "stream",
     "text": [
      "Game 500 of 5000 [10.00%]; Current longest = 31; Current highest = 1273.81\n",
      "Game 1000 of 5000 [20.00%]; Current longest = 35; Current highest = 1273.81\n",
      "Game 1500 of 5000 [30.00%]; Current longest = 35; Current highest = 1285.89\n",
      "Game 2000 of 5000 [40.00%]; Current longest = 35; Current highest = 1285.89\n",
      "Game 2500 of 5000 [50.00%]; Current longest = 35; Current highest = 1305.08\n",
      "Game 3000 of 5000 [60.00%]; Current longest = 35; Current highest = 1305.08\n",
      "Game 3500 of 5000 [70.00%]; Current longest = 36; Current highest = 1305.08\n",
      "Game 4000 of 5000 [80.00%]; Current longest = 40; Current highest = 1305.08\n",
      "Game 4500 of 5000 [90.00%]; Current longest = 40; Current highest = 1305.08\n",
      "Game 5000 of 5000 [100.00%]; Current longest = 40; Current highest = 1540.45\n"
     ]
    }
   ],
   "source": [
    "# play nGames and save the longest game for playback\n",
    "nGames = 5000\n",
    "nGames_perGen = 50 # number of games to play before updating the brains\n",
    "longestgame = 0\n",
    "highestscore = 0\n",
    "scoreboard = np.zeros((nGames, numSnakes))\n",
    "letmeknow_percent = 0.1\n",
    "\n",
    "for i in range(nGames):\n",
    "    # every 100 games, print the progress\n",
    "    if nGames>100:\n",
    "        if (i+1) % int(nGames*letmeknow_percent) == 0:\n",
    "            print(f\"Game {i+1} of {nGames} [{(i+1)/nGames*100:.2f}%]; Current longest = {longestgame:.0f}; Current highest = {highestscore:.2f}\")\n",
    "            \n",
    "    game.reset()\n",
    "    while not game.done:\n",
    "        action_vector = [None]*numSnakes\n",
    "        for snake in game.snakes:\n",
    "            if game.snakes[snake].alive:\n",
    "                action_vector[snake] = game.snakes[snake].take_action(game.get_state(snakeID=snake), game.choices)\n",
    "        game.updateGame(action_vector)\n",
    "\n",
    "    # save the score of each snake\n",
    "    for snake in game.snakes:\n",
    "        scoreboard[i, snake] = game.snakes[snake].score\n",
    "    \n",
    "    # Save the longest game\n",
    "    if len(game.gameLog) > longestgame:\n",
    "        longestgame = len(game.gameLog)\n",
    "        longestGame = game.gameLog\n",
    "    \n",
    "    # Save the highest scoring game\n",
    "    if np.sum(scoreboard[i,:]) > highestscore:\n",
    "        highestscore = np.sum(scoreboard[i,:])\n",
    "        bestGame = game.gameLog"
   ]
  },
  {
   "cell_type": "code",
   "execution_count": 4,
   "metadata": {},
   "outputs": [
    {
     "data": {
      "image/png": "[encoded data removed]",
      "text/plain": [
       "<Figure size 640x480 with 1 Axes>"
      ]
     },
     "metadata": {},
     "output_type": "display_data"
    }
   ],
   "source": [
    "# make a standard error bar plot of the scores for each snake\n",
    "mean_scores = np.mean(scoreboard, axis=0)\n",
    "sem_scores = np.std(scoreboard, axis=0)/np.sqrt(nGames)\n",
    "\n",
    "# plt.figure(figsize=(10,5))\n",
    "# have color gradient\n",
    "evolution = [0]\n",
    "for phases in range(len(evolution)):\n",
    "    for snake in range(numSnakes):\n",
    "        plt.errorbar(evolution[phases] + (snake/numSnakes)*0.5 -0.25, mean_scores[snake], yerr=sem_scores[snake], fmt='o', color=plt.cm.viridis(snake/numSnakes))"
   ]
  },
  {
   "cell_type": "code",
   "execution_count": null,
   "metadata": {},
   "outputs": [],
   "source": [
    "myFigsize = 5\n",
    "fig, ax = plt.subplots(figsize=(myFigsize, myFigsize))  # Initialize the figure and axes objects\n",
    "\n",
    "playGame = longestGame\n",
    "# playback the best game\n",
    "# playGame = bestGame\n",
    "# playback the longest game\n",
    "for state in playGame:\n",
    "    ax.clear()  # Clear the previous state\n",
    "    ax.imshow(playGame[state])  # Display the current state\n",
    "    ax.set_xticks([])  # Remove x-axis ticks\n",
    "    ax.set_yticks([])  # Remove y-axis ticks\n",
    "    display(fig)\n",
    "    clear_output(wait=True)\n",
    "    time.sleep(0.02)"
   ]
  }
 ],
 "metadata": {
  "kernelspec": {
   "display_name": "Python 3",
   "language": "python",
   "name": "python3"
  },
  "language_info": {
   "codemirror_mode": {
    "name": "ipython",
    "version": 3
   },
   "file_extension": ".py",
   "mimetype": "text/x-python",
   "name": "python",
   "nbconvert_exporter": "python",
   "pygments_lexer": "ipython3",
   "version": "3.10.5"
  }
 },
 "nbformat": 4,
 "nbformat_minor": 2
}
