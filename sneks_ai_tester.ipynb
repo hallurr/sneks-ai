{
 "cells": [
  {
   "cell_type": "code",
   "execution_count": null,
   "metadata": {},
   "outputs": [],
   "source": [
    "import time\n",
    "import matplotlib.pyplot as plt\n",
    "from IPython.display import display, clear_output\n",
    "from sneks_ai import SnakeGame, Snake, Apple  # use the classes from sneks-ai.py"
   ]
  },
  {
   "cell_type": "code",
   "execution_count": null,
   "metadata": {},
   "outputs": [],
   "source": [
    "gameSize = 20\n",
    "numSnakes = 2\n",
    "numApples = 2\n",
    "myFigsize = 5\n",
    "game = SnakeGame(\n",
    "    canvas_size = gameSize, \n",
    "    nApples = numApples, \n",
    "    nSnakes = numApples,\n",
    "    annotate = False,\n",
    "    keepGameLog = True\n",
    "    )\n",
    "snakeIDs = [snake for snake in game.snakes]\n",
    "plt.figure(figsize=(myFigsize,myFigsize))\n",
    "plt.imshow(game.get_state(snakeID=snakeIDs[0]))\n",
    "plt.xticks([])\n",
    "plt.yticks([])\n",
    "plt.show()\n",
    "\n",
    "# Outside of the game you request actions of each snake, and then update the game with the action_vector, where the action vector length is the number of snakes"
   ]
  },
  {
   "cell_type": "code",
   "execution_count": null,
   "metadata": {},
   "outputs": [],
   "source": [
    "# Outside of the game you request actions of each snake, and then update the game with the action_vector, where the action vector length is the number of snakes\n",
    "# E.G.\n",
    "maxticker = 10\n",
    "while not game.done:\n",
    "    \n",
    "    # initialize the action vector\n",
    "    action_vector = [None]*numSnakes\n",
    "    for snake in game.snakes:\n",
    "        if game.snakes[snake].alive:\n",
    "            action_vector[snake] = game.snakes[snake].take_action(game.get_state(snakeID=snake), game.choices)\n",
    "    # update the game\n",
    "    agnostic_state, movement_rewards, done_vector =  game.updateGame(action_vector)\n",
    "    \n",
    "    \n",
    "totalScores = game.get_totalScores()\n",
    "print(totalScores)    \n",
    "if game.ticker > maxticker:\n",
    "    maxticker = game.ticker\n",
    "    LongestGame = game.gameLog\n",
    "    # print(movement_rewards)\n",
    "    # print(done_vector)\n",
    "    # plt.imshow(agnostic_state)\n",
    "    # # plt.imshow(game.get_state(snakeID=snake))\n",
    "    # plt.xticks([])\n",
    "    # plt.yticks([])\n",
    "    # plt.show()\n",
    "    # time.sleep(1)\n",
    "    # clear_output(wait=True)\n",
    "    \n",
    "\n"
   ]
  },
  {
   "cell_type": "code",
   "execution_count": null,
   "metadata": {},
   "outputs": [],
   "source": [
    "game.snakes[snake].body"
   ]
  },
  {
   "cell_type": "code",
   "execution_count": null,
   "metadata": {},
   "outputs": [],
   "source": [
    "alivesnakes = [snake for snake in game.snakes if game.snakes[snake].alive]\n",
    "actions = [action_vector[snake] for snake in game.snakes if game.snakes[snake].alive]\n",
    "\n",
    "# everyone takes an action based on the action vector\n",
    "possiblenewheads = [[game.snakes[snake].head[0] + game.directions[game.choices[actions[i]]][0], game.snakes[snake].head[1] + game.directions[game.choices[actions[i]]][1]] for i, snake in enumerate(alivesnakes)]\n",
    "possiblenewheads"
   ]
  },
  {
   "cell_type": "code",
   "execution_count": null,
   "metadata": {},
   "outputs": [],
   "source": []
  },
  {
   "cell_type": "code",
   "execution_count": null,
   "metadata": {},
   "outputs": [],
   "source": []
  },
  {
   "cell_type": "code",
   "execution_count": null,
   "metadata": {},
   "outputs": [],
   "source": []
  },
  {
   "cell_type": "code",
   "execution_count": null,
   "metadata": {},
   "outputs": [],
   "source": [
    "action_vector"
   ]
  },
  {
   "cell_type": "code",
   "execution_count": null,
   "metadata": {},
   "outputs": [],
   "source": [
    "snakeIDS = 1\n",
    "game.snakes[snakeIDS].head"
   ]
  },
  {
   "cell_type": "code",
   "execution_count": null,
   "metadata": {},
   "outputs": [],
   "source": [
    "game.snakes[snakeIDS].body"
   ]
  },
  {
   "cell_type": "code",
   "execution_count": null,
   "metadata": {},
   "outputs": [],
   "source": [
    "# state = game.get_state(snakeID=1)\n",
    "state = game.get_agnosticState()\n",
    "snakeIDS = 1\n",
    "plt.imshow(state)\n",
    "game.snakes[snakeIDS].head[0]"
   ]
  },
  {
   "cell_type": "code",
   "execution_count": null,
   "metadata": {},
   "outputs": [],
   "source": [
    "action_vector"
   ]
  },
  {
   "cell_type": "code",
   "execution_count": null,
   "metadata": {},
   "outputs": [],
   "source": [
    "action_vector = [None]*numSnakes\n",
    "for snake in game.snakes:\n",
    "    if game.snakes[snake].alive:\n",
    "        action_vector[snake] = game.snakes[snake].take_action(game.get_state(snakeID=snake), game.choices)\n",
    "        \n",
    "action_vector\n",
    "\n",
    "for apple in game.apples:\n",
    "    game.apples[apple].update_value()\n",
    "    # if the apple value is less that 25% of the original value, place a new apple\n",
    "    if game.apples[apple].value < 0.25*game.apple_Reward:\n",
    "        new_apple_pos = game.place_apple()\n",
    "        game.apples[apple] = Apple(new_apple_pos, game.apple_Reward, game.gamma)\n",
    "        \n",
    "        \n",
    "        "
   ]
  },
  {
   "cell_type": "code",
   "execution_count": null,
   "metadata": {},
   "outputs": [],
   "source": [
    "# Update the ticker\n",
    "game.ticker += 1\n",
    "\n",
    "for snake in game.snakes:\n",
    "    game.snakes[snake].scoreUpdate = 0\n",
    "alivesnakes = [snake for snake in game.snakes if game.snakes[snake].alive]\n",
    "alivesnakes\n",
    "\n",
    "actions = [action_vector[snake] for snake in game.snakes if game.snakes[snake].alive]\n",
    "actions\n",
    "\n",
    "# everyone takes an action based on the action vector\n",
    "possiblenewheads = [[game.snakes[snake].head[0] + game.directions[game.choices[actions[i]]][0],\\\n",
    "    game.snakes[snake].head[1] + game.directions[game.choices[actions[i]]][1]]\\\n",
    "        for i, snake in enumerate(alivesnakes)]\n",
    "possiblenewheads\n"
   ]
  },
  {
   "cell_type": "code",
   "execution_count": null,
   "metadata": {},
   "outputs": [],
   "source": [
    "game.directions[game.choices[actions[snakeIDS]]][1]"
   ]
  },
  {
   "cell_type": "code",
   "execution_count": null,
   "metadata": {},
   "outputs": [],
   "source": [
    "possiblenewheads[snakeIDS]"
   ]
  },
  {
   "cell_type": "code",
   "execution_count": null,
   "metadata": {},
   "outputs": [],
   "source": [
    "game.snakes[snakeIDS].head"
   ]
  },
  {
   "cell_type": "code",
   "execution_count": null,
   "metadata": {},
   "outputs": [],
   "source": [
    "game.snakes[snakeIDS].body"
   ]
  },
  {
   "cell_type": "code",
   "execution_count": null,
   "metadata": {},
   "outputs": [],
   "source": [
    "def check_hitSelf(possiblenewhead, \n",
    "                    snakeID):\n",
    "    # check for given snake if he hit own body, then he is dead\n",
    "    if possiblenewhead in game.snakes[snakeID].body:\n",
    "        print(f\"Self hit, {snakeID} died!\")\n",
    "def check_hitWall(possiblenewhead, \n",
    "                      snakeID):\n",
    "        if possiblenewhead[0] < 0 or possiblenewhead[0] >= game.canvas_size or possiblenewhead[1] < 0 or possiblenewhead[1] >= game.canvas_size:\n",
    "                print(f\"Wall hit, {snakeID} died!\")\n",
    "def hunger_update(snakeID):\n",
    "        game.snakes[snakeID].hunger += 1\n",
    "        if game.snakes[snakeID].hunger > game.snake_dieHunger:\n",
    "            print(f\"Hunger too great, {snakeID} died!\")\n",
    "            \n",
    "for i in range(len(alivesnakes)):\n",
    "    game.snakes[alivesnakes[i]].alive\n",
    "    check_hitSelf(possiblenewheads[i], alivesnakes[i])\n",
    "    check_hitWall(possiblenewheads[i], alivesnakes[i])\n",
    "    hunger_update(alivesnakes[i])"
   ]
  },
  {
   "cell_type": "code",
   "execution_count": null,
   "metadata": {},
   "outputs": [],
   "source": [
    "alivesnakes"
   ]
  },
  {
   "cell_type": "code",
   "execution_count": null,
   "metadata": {},
   "outputs": [],
   "source": [
    "[game.snakes[snakeIDS].head] + game.snakes[snakeIDS].body"
   ]
  },
  {
   "cell_type": "code",
   "execution_count": null,
   "metadata": {},
   "outputs": [],
   "source": [
    "possiblenewheads[snakeIDS]"
   ]
  },
  {
   "cell_type": "code",
   "execution_count": null,
   "metadata": {},
   "outputs": [],
   "source": [
    "[game.snakes[snakeIDS].head] + game.snakes[snakeIDS].body[:-1]"
   ]
  },
  {
   "cell_type": "code",
   "execution_count": null,
   "metadata": {},
   "outputs": [],
   "source": [
    "[game.snakes[i].head] + game.snakes[i].body[:-1]"
   ]
  },
  {
   "cell_type": "code",
   "execution_count": null,
   "metadata": {},
   "outputs": [],
   "source": [
    "import random\n",
    "random.randint(3, game.canvas_size-4)"
   ]
  },
  {
   "cell_type": "code",
   "execution_count": null,
   "metadata": {},
   "outputs": [],
   "source": [
    "game.ticker"
   ]
  },
  {
   "cell_type": "code",
   "execution_count": null,
   "metadata": {},
   "outputs": [],
   "source": [
    "plt.figure(figsize=(10,10))\n",
    "plt.imshow(game.get_state(snakeID=1))"
   ]
  }
 ],
 "metadata": {
  "kernelspec": {
   "display_name": "Python 3",
   "language": "python",
   "name": "python3"
  },
  "language_info": {
   "codemirror_mode": {
    "name": "ipython",
    "version": 3
   },
   "file_extension": ".py",
   "mimetype": "text/x-python",
   "name": "python",
   "nbconvert_exporter": "python",
   "pygments_lexer": "ipython3",
   "version": "3.10.5"
  }
 },
 "nbformat": 4,
 "nbformat_minor": 2
}
